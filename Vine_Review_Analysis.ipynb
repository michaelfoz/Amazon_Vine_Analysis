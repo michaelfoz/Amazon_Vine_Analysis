{
  "nbformat": 4,
  "nbformat_minor": 0,
  "metadata": {
    "colab": {
      "name": "Vine_Review_Analysisipynb",
      "provenance": [],
      "collapsed_sections": []
    },
    "kernelspec": {
      "name": "python3",
      "display_name": "Python 3"
    },
    "language_info": {
      "name": "python"
    }
  },
  "cells": [
    {
      "cell_type": "markdown",
      "source": [
        "# **Deliverable 2: Determine Bias of Vine Reviews**"
      ],
      "metadata": {
        "id": "icD_lvk1ZndT"
      }
    },
    {
      "cell_type": "markdown",
      "source": [
        "Using your knowledge of PySpark, Pandas, or SQL, you’ll determine if there is any bias towards reviews that were written as part of the Vine program. For this analysis, you'll determine if having a paid Vine review makes a difference in the percentage of 5-star reviews."
      ],
      "metadata": {
        "id": "X21Lf6ojZ6l6"
      }
    },
    {
      "cell_type": "markdown",
      "source": [
        "Using either PySpark, Pandas, or SQL, follow the instructions below to complete Deliverable 2.\n",
        "\n",
        "\n",
        "\n",
        "1.   Filter the data and create a new DataFrame or table to retrieve all the rows where the total_votes count is equal to or greater than 20 to pick reviews that are more likely to be helpful and to avoid having division by zero errors later on.\n",
        "2.   Filter the new DataFrame or table created in Step 1 and create a new DataFrame or table to retrieve all the rows where the number of helpful_votes divided by total_votes is equal to or greater than 50%.\n",
        "\n",
        "*   If you use the SQL option below, you’ll need to cast your columns as floats using WHERE CAST(helpful_votes AS FLOAT)/CAST(total_votes AS FLOAT) >=0.5.\n",
        "\n",
        "\n",
        "3.  Filter the DataFrame or table created in Step 2, and create a new DataFrame or table that retrieves all the rows where a review was written as part of the Vine program (paid), vine == 'Y'.\n",
        "4. Repeat Step 3, but this time retrieve all the rows where the review was not part of the Vine program (unpaid), vine == 'N'.\n",
        "5. Determine the total number of reviews, the number of 5-star reviews, and the percentage of 5-star reviews for the two types of review (paid vs unpaid).\n",
        "\n"
      ],
      "metadata": {
        "id": "xXRvrC93Z_Wu"
      }
    },
    {
      "cell_type": "markdown",
      "source": [
        "**NOTE**"
      ],
      "metadata": {
        "id": "fpnDV_DeaUuS"
      }
    },
    {
      "cell_type": "markdown",
      "source": [
        "We recommend using either PySpark or Pandas to perform the analysis. Using SQL queries is more challenging, especially for Step 5 above, and is better suited for intermediate and experienced SQL programmers."
      ],
      "metadata": {
        "id": "WuLIUFH8aZgv"
      }
    },
    {
      "cell_type": "markdown",
      "source": [
        "# **Using PySpark**\n",
        "\n",
        "\n",
        "1.   Create a new Google Colab Notebook, and name it Vine_Review_Analysis.\n",
        "2.   Extract the dataset you used in Deliverable 1.\n",
        "3. Recreate the vine_table, and perform your analysis using the steps above.\n",
        "4. Export your Vine_Review_Analysis Google Colab Notebook as an ipynb file, and save it to your Amazon_Vine_Analysis GitHub repository.\n",
        "\n",
        "\n",
        "\n",
        "\n"
      ],
      "metadata": {
        "id": "Usd_xNOpY8rm"
      }
    },
    {
      "cell_type": "code",
      "source": [
        "import os\n",
        "# Find the latest version of spark 3.0  from http://www.apache.org/dist/spark/ and enter as the spark version\n",
        "# For example:\n",
        "# spark_version = 'spark-3.0.3'\n",
        "spark_version = 'spark-3.1.3'\n",
        "os.environ['SPARK_VERSION']=spark_version\n",
        "# Install Spark and Java\n",
        "!apt-get update\n",
        "!apt-get install openjdk-11-jdk-headless -qq > /dev/null\n",
        "!wget -q http://www.apache.org/dist/spark/$SPARK_VERSION/$SPARK_VERSION-bin-hadoop2.7.tgz\n",
        "!tar xf $SPARK_VERSION-bin-hadoop2.7.tgz\n",
        "!pip install -q findspark\n",
        "# Set Environment Variables\n",
        "import os\n",
        "os.environ[\"JAVA_HOME\"] = \"/usr/lib/jvm/java-11-openjdk-amd64\"\n",
        "os.environ[\"SPARK_HOME\"] = f\"/content/{spark_version}-bin-hadoop2.7\"\n",
        "# Start a SparkSession\n",
        "import findspark\n",
        "findspark.init()"
      ],
      "metadata": {
        "colab": {
          "base_uri": "https://localhost:8080/"
        },
        "id": "4_sGQBEsalGU",
        "outputId": "1561545a-a50d-4769-ace2-d55bd0e952fb"
      },
      "execution_count": 2,
      "outputs": [
        {
          "output_type": "stream",
          "name": "stdout",
          "text": [
            "\r0% [Working]\r            \rGet:1 https://cloud.r-project.org/bin/linux/ubuntu bionic-cran40/ InRelease [3,626 B]\n",
            "\r0% [Connecting to archive.ubuntu.com (185.125.190.39)] [Connecting to security.\r0% [Connecting to archive.ubuntu.com (185.125.190.39)] [Connecting to security.\r                                                                               \rIgn:2 https://developer.download.nvidia.com/compute/machine-learning/repos/ubuntu1804/x86_64  InRelease\n",
            "Get:3 https://developer.download.nvidia.com/compute/cuda/repos/ubuntu1804/x86_64  InRelease [1,581 B]\n",
            "Hit:4 https://developer.download.nvidia.com/compute/machine-learning/repos/ubuntu1804/x86_64  Release\n",
            "Hit:5 http://archive.ubuntu.com/ubuntu bionic InRelease\n",
            "Get:6 http://security.ubuntu.com/ubuntu bionic-security InRelease [88.7 kB]\n",
            "Get:7 http://ppa.launchpad.net/c2d4u.team/c2d4u4.0+/ubuntu bionic InRelease [15.9 kB]\n",
            "Get:8 https://cloud.r-project.org/bin/linux/ubuntu bionic-cran40/ Packages [91.1 kB]\n",
            "Get:9 http://archive.ubuntu.com/ubuntu bionic-updates InRelease [88.7 kB]\n",
            "Get:10 https://developer.download.nvidia.com/compute/cuda/repos/ubuntu1804/x86_64  Packages [912 kB]\n",
            "Hit:11 http://ppa.launchpad.net/cran/libgit2/ubuntu bionic InRelease\n",
            "Get:13 http://archive.ubuntu.com/ubuntu bionic-backports InRelease [74.6 kB]\n",
            "Hit:14 http://ppa.launchpad.net/deadsnakes/ppa/ubuntu bionic InRelease\n",
            "Hit:15 http://ppa.launchpad.net/graphics-drivers/ppa/ubuntu bionic InRelease\n",
            "Get:16 http://ppa.launchpad.net/c2d4u.team/c2d4u4.0+/ubuntu bionic/main Sources [2,093 kB]\n",
            "Get:17 http://security.ubuntu.com/ubuntu bionic-security/universe amd64 Packages [1,534 kB]\n",
            "Get:18 http://security.ubuntu.com/ubuntu bionic-security/main amd64 Packages [2,938 kB]\n",
            "Get:19 http://archive.ubuntu.com/ubuntu bionic-updates/universe amd64 Packages [2,311 kB]\n",
            "Get:20 http://ppa.launchpad.net/c2d4u.team/c2d4u4.0+/ubuntu bionic/main amd64 Packages [1,073 kB]\n",
            "Get:21 http://archive.ubuntu.com/ubuntu bionic-updates/main amd64 Packages [3,369 kB]\n",
            "Fetched 14.6 MB in 4s (3,741 kB/s)\n",
            "Reading package lists... Done\n"
          ]
        }
      ]
    },
    {
      "cell_type": "code",
      "source": [
        "from pyspark.sql import SparkSession\n",
        "spark = SparkSession.builder.appName(\"M16-Amazon-Challenge\").config(\"spark.driver.extraClassPath\",\"/content/postgresql-42.2.16.jar\").getOrCreate()"
      ],
      "metadata": {
        "id": "6RNkITkoasis"
      },
      "execution_count": 3,
      "outputs": []
    },
    {
      "cell_type": "markdown",
      "source": [
        "# **Load Amazon Data into Spark dataframe (df--same as Amazazon_Reviews_ETL.ipynb)**"
      ],
      "metadata": {
        "id": "Gee8Kj6Da2ib"
      }
    },
    {
      "cell_type": "code",
      "source": [
        "from pyspark import SparkFiles\n",
        "url = \"https://s3.amazonaws.com/amazon-reviews-pds/tsv/amazon_reviews_us_Shoes_v1_00.tsv.gz\"\n",
        "spark.sparkContext.addFile(url)\n",
        "df = spark.read.csv(SparkFiles.get(\"amazon_reviews_us_Shoes_v1_00.tsv.gz\"), sep=\"\\t\", header=True, inferSchema=True)\n",
        "df.show()"
      ],
      "metadata": {
        "colab": {
          "base_uri": "https://localhost:8080/"
        },
        "id": "zWpUEcIKasuG",
        "outputId": "14bf456d-c663-47a4-8732-87d51af898fe"
      },
      "execution_count": 4,
      "outputs": [
        {
          "output_type": "stream",
          "name": "stdout",
          "text": [
            "+-----------+-----------+--------------+----------+--------------+--------------------+----------------+-----------+-------------+-----------+----+-----------------+--------------------+--------------------+-----------+\n",
            "|marketplace|customer_id|     review_id|product_id|product_parent|       product_title|product_category|star_rating|helpful_votes|total_votes|vine|verified_purchase|     review_headline|         review_body|review_date|\n",
            "+-----------+-----------+--------------+----------+--------------+--------------------+----------------+-----------+-------------+-----------+----+-----------------+--------------------+--------------------+-----------+\n",
            "|         US|   18069663|R3P2HIOQCIN5ZU|B000XB31C0|     265024781|Minnetonka Men's ...|           Shoes|          1|            0|          0|   N|                Y|                   .|Do not buy: reall...| 2015-08-31|\n",
            "|         US|   16251825|R12VVR0WH5Q24V|B00CFYZH5W|     259035853|Teva Men's Pajaro...|           Shoes|          5|            0|          0|   N|                Y|     super flip flop|provides great cu...| 2015-08-31|\n",
            "|         US|   20381037| RNCCKB6TV5EEF|B00S8JNN3Q|     666066660|Anne Klein Perfec...|           Shoes|          4|            0|          0|   N|                Y| Great clutch purse!|It's perfect if y...| 2015-08-31|\n",
            "|         US|     108364|R2NZXYIVCGB13W|B00XFBPOQG|     448483263|adidas Men's 10K ...|           Shoes|          5|            0|          6|   N|                Y|              Badass|  Getting what u see| 2015-08-31|\n",
            "|         US|   45449350|R2EQ1TG9IT3OEQ|B00SW64Y9W|       7853171|OverBling Sneaker...|           Shoes|          3|            0|          0|   N|                Y|         Three Stars|               small| 2015-08-31|\n",
            "|         US|   19324665|R1WXA9JSC2H1U1|B011F9E6LI|      14311457|MESSI 15.3 FG/AG ...|           Shoes|          5|            1|          1|   N|                Y|          Five Stars|My 13 year old so...| 2015-08-31|\n",
            "|         US|   50073594|R12ENYLFGGNWRV|B00HAUP1OI|     264821602|Hoka One One Men'...|           Shoes|          5|            1|          1|   N|                Y|Finally, some cus...|Ok, I have been s...| 2015-08-31|\n",
            "|         US|   21706057|R2R07E5PNXEUO5|B00L1RKOKW|     767118055|Olukai Nohea Mesh...|           Shoes|          4|            0|          0|   N|                Y|good deal, but ha...|I went a full siz...| 2015-08-31|\n",
            "|         US|   13708216|R27BA52AKWMWN3|B005WA9MSE|     813856438|Carolina Mens 6\" ...|           Shoes|          5|            0|          0|   N|                Y|... would have to...|I would have to s...| 2015-08-31|\n",
            "|         US|   40542649| RLF8DOID2KD5O|B00BEYQI5C|     661491213|Alegria Women's S...|           Shoes|          3|            0|          0|   N|                Y|           Too small|The size is misle...| 2015-08-31|\n",
            "|         US|   13409446|R369CEXHXHC6NQ|B00EYAFTCQ|     332158165|Naturalizer Women...|           Shoes|          5|            0|          0|   N|                Y|          Five Stars|These shoes are v...| 2015-08-31|\n",
            "|         US|    9451727|R171PPIJXFONVI|B00I0QHY32|      49243908|Forever Link Wome...|           Shoes|          5|            0|          0|   N|                Y|          Five Stars|I love these sand...| 2015-08-31|\n",
            "|         US|     193731|R2JDNM8F2P06FU|B010FZZKYA|     161497902|Versace Collectio...|           Shoes|          4|            1|          1|   N|                Y|          Four Stars|Good quality shoe...| 2015-08-31|\n",
            "|         US|   34798634|R2W977FO4M97XT|B00V8B30K2|     759958795|Twisted Girl's Ch...|           Shoes|          5|            0|          1|   N|                Y|Good shoes, comfo...|My daughter reall...| 2015-08-31|\n",
            "|         US|   37235551|R3AM24QPLI28UY|B00LAVB1TC|     910150896|Travel Smart Hand...|           Shoes|          2|            1|          2|   N|                Y|           Two Stars|         It's okay .| 2015-08-31|\n",
            "|         US|   27081399| REDVXSFYVNT5T|B003C1P8B0|     762792587|Saucony Originals...|           Shoes|          5|            0|          0|   N|                Y|    Love these shoes|Love these shoes!...| 2015-08-31|\n",
            "|         US|     120678|R14AIIK7D6ENDZ|B000W3UL7W|     123724495|Dr. Marten's Wome...|           Shoes|          5|            0|          0|   N|                Y|          Five Stars|                Good| 2015-08-31|\n",
            "|         US|   22272389|R3B1NURKMCVAL1|B00LX65PQO|     848850234|Skechers Performa...|           Shoes|          3|            2|          2|   N|                Y|         Three Stars|I like the go wal...| 2015-08-31|\n",
            "|         US|   19584241|R14Q1GZGV10IMX|B00BEE7N3I|     211637196|Hi-Tec Kid's Nepa...|           Shoes|          4|            0|          0|   N|                Y|          Four Stars|Kids love them fo...| 2015-08-31|\n",
            "|         US|   12334573| R9BHBB06QD6TM|B008NCHMBW|     138572112|Foot Sox Original...|           Shoes|          1|            2|          2|   N|                Y|Tissue paper is t...|Tissue paper is t...| 2015-08-31|\n",
            "+-----------+-----------+--------------+----------+--------------+--------------------+----------------+-----------+-------------+-----------+----+-----------------+--------------------+--------------------+-----------+\n",
            "only showing top 20 rows\n",
            "\n"
          ]
        }
      ]
    },
    {
      "cell_type": "code",
      "source": [
        "ratings_df = df.select([\"vine\", \"verified_purchase\", \"star_rating\", \"total_votes\", \"helpful_votes\"])\n",
        "ratings_df.show()"
      ],
      "metadata": {
        "colab": {
          "base_uri": "https://localhost:8080/"
        },
        "id": "n9rx53Mqas09",
        "outputId": "6727035b-ddbb-4905-b542-71d9f76aa245"
      },
      "execution_count": 24,
      "outputs": [
        {
          "output_type": "stream",
          "name": "stdout",
          "text": [
            "+----+-----------------+-----------+-----------+-------------+\n",
            "|vine|verified_purchase|star_rating|total_votes|helpful_votes|\n",
            "+----+-----------------+-----------+-----------+-------------+\n",
            "|   N|                Y|          1|          0|            0|\n",
            "|   N|                Y|          5|          0|            0|\n",
            "|   N|                Y|          4|          0|            0|\n",
            "|   N|                Y|          5|          6|            0|\n",
            "|   N|                Y|          3|          0|            0|\n",
            "|   N|                Y|          5|          1|            1|\n",
            "|   N|                Y|          5|          1|            1|\n",
            "|   N|                Y|          4|          0|            0|\n",
            "|   N|                Y|          5|          0|            0|\n",
            "|   N|                Y|          3|          0|            0|\n",
            "|   N|                Y|          5|          0|            0|\n",
            "|   N|                Y|          5|          0|            0|\n",
            "|   N|                Y|          4|          1|            1|\n",
            "|   N|                Y|          5|          1|            0|\n",
            "|   N|                Y|          2|          2|            1|\n",
            "|   N|                Y|          5|          0|            0|\n",
            "|   N|                Y|          5|          0|            0|\n",
            "|   N|                Y|          3|          2|            2|\n",
            "|   N|                Y|          4|          0|            0|\n",
            "|   N|                Y|          1|          2|            2|\n",
            "+----+-----------------+-----------+-----------+-------------+\n",
            "only showing top 20 rows\n",
            "\n"
          ]
        }
      ]
    },
    {
      "cell_type": "code",
      "source": [
        "# Filter the data and create a new DataFrame or table to retrieve all the rows where the total_votes count is equal to or greater than 20 to pick reviews that are more likely to be helpful and to avoid having division by zero errors later on.\n",
        "votes_df = ratings_df.filter(ratings_df[\"total_votes\"] >= 20)\n",
        "\n",
        "# Filter the new DataFrame or table created in Step 1 and create a new DataFrame or table to retrieve all the rows where the number of helpful_votes divided by total_votes is equal to or greater than 50% (0.5).\n",
        "filtered_votes_df = votes_df.filter(votes_df[\"helpful_votes\"]/votes_df[\"total_votes\"] >= 0.5)\n",
        "filtered_votes_df.show()"
      ],
      "metadata": {
        "colab": {
          "base_uri": "https://localhost:8080/"
        },
        "id": "_wTLWBz1eSYr",
        "outputId": "45c8d4e3-e3da-43da-f6d3-7da38d3ebf9a"
      },
      "execution_count": 25,
      "outputs": [
        {
          "output_type": "stream",
          "name": "stdout",
          "text": [
            "+----+-----------------+-----------+-----------+-------------+\n",
            "|vine|verified_purchase|star_rating|total_votes|helpful_votes|\n",
            "+----+-----------------+-----------+-----------+-------------+\n",
            "|   N|                Y|          5|         49|           45|\n",
            "|   N|                Y|          5|         25|           25|\n",
            "|   N|                N|          5|         27|           16|\n",
            "|   N|                Y|          5|         21|           19|\n",
            "|   N|                Y|          2|         22|           19|\n",
            "|   N|                Y|          5|         30|           30|\n",
            "|   N|                Y|          5|         29|           28|\n",
            "|   N|                Y|          5|         28|           28|\n",
            "|   N|                Y|          2|         51|           43|\n",
            "|   N|                Y|          5|         22|           21|\n",
            "|   N|                Y|          1|         33|           33|\n",
            "|   N|                Y|          2|         76|           73|\n",
            "|   N|                Y|          3|         26|           23|\n",
            "|   N|                Y|          5|         46|           44|\n",
            "|   N|                Y|          1|         46|           45|\n",
            "|   N|                Y|          5|         26|           24|\n",
            "|   N|                Y|          1|         35|           35|\n",
            "|   N|                Y|          5|         23|           22|\n",
            "|   N|                Y|          5|         20|           17|\n",
            "|   N|                Y|          5|         73|           71|\n",
            "+----+-----------------+-----------+-----------+-------------+\n",
            "only showing top 20 rows\n",
            "\n"
          ]
        }
      ]
    },
    {
      "cell_type": "code",
      "source": [
        "# Filter the DataFrame or table created in Step 2, and create a new DataFrame or table that retrieves all the rows where a review was written as part of the Vine program (paid), vine == 'Y'.\n",
        "from pyspark.sql.functions import col, avg\n",
        "paid_df = filtered_votes_df.filter(filtered_votes_df['vine']== 'Y')\n",
        "paid_df.show()"
      ],
      "metadata": {
        "colab": {
          "base_uri": "https://localhost:8080/"
        },
        "id": "Z1asSOUJfxc3",
        "outputId": "eed164ab-5787-4929-921a-9497b80b3702"
      },
      "execution_count": 26,
      "outputs": [
        {
          "output_type": "stream",
          "name": "stdout",
          "text": [
            "+----+-----------------+-----------+-----------+-------------+\n",
            "|vine|verified_purchase|star_rating|total_votes|helpful_votes|\n",
            "+----+-----------------+-----------+-----------+-------------+\n",
            "|   Y|                N|          5|         22|           21|\n",
            "|   Y|                N|          5|         38|           34|\n",
            "|   Y|                N|          4|        184|          180|\n",
            "|   Y|                N|          4|         21|           21|\n",
            "|   Y|                N|          5|         98|           88|\n",
            "|   Y|                N|          5|         26|           24|\n",
            "|   Y|                N|          5|         28|           27|\n",
            "|   Y|                N|          5|         56|           53|\n",
            "|   Y|                N|          2|         31|           26|\n",
            "|   Y|                N|          5|         24|           21|\n",
            "|   Y|                N|          3|         96|           94|\n",
            "|   Y|                N|          4|         38|           35|\n",
            "|   Y|                N|          5|         20|           16|\n",
            "|   Y|                N|          4|         51|           49|\n",
            "|   Y|                N|          4|         20|           20|\n",
            "|   Y|                N|          5|         35|           31|\n",
            "|   Y|                N|          2|         42|           39|\n",
            "|   Y|                N|          5|         32|           26|\n",
            "|   Y|                N|          5|         34|           25|\n",
            "|   Y|                N|          4|        211|          205|\n",
            "+----+-----------------+-----------+-----------+-------------+\n",
            "only showing top 20 rows\n",
            "\n"
          ]
        }
      ]
    },
    {
      "cell_type": "code",
      "source": [
        "# Repeat Step 3, but this time retrieve all the rows where the review was not part of the Vine program (unpaid), vine == 'N'.\n",
        "unpaid_df = filtered_votes_df.filter(filtered_votes_df['vine']== 'N')\n",
        "unpaid_df.show()"
      ],
      "metadata": {
        "colab": {
          "base_uri": "https://localhost:8080/"
        },
        "id": "Frml3qVJggSH",
        "outputId": "ff861ecf-d8ed-4d04-8ac2-1b2ded964079"
      },
      "execution_count": 27,
      "outputs": [
        {
          "output_type": "stream",
          "name": "stdout",
          "text": [
            "+----+-----------------+-----------+-----------+-------------+\n",
            "|vine|verified_purchase|star_rating|total_votes|helpful_votes|\n",
            "+----+-----------------+-----------+-----------+-------------+\n",
            "|   N|                Y|          5|         49|           45|\n",
            "|   N|                Y|          5|         25|           25|\n",
            "|   N|                N|          5|         27|           16|\n",
            "|   N|                Y|          5|         21|           19|\n",
            "|   N|                Y|          2|         22|           19|\n",
            "|   N|                Y|          5|         30|           30|\n",
            "|   N|                Y|          5|         29|           28|\n",
            "|   N|                Y|          5|         28|           28|\n",
            "|   N|                Y|          2|         51|           43|\n",
            "|   N|                Y|          5|         22|           21|\n",
            "|   N|                Y|          1|         33|           33|\n",
            "|   N|                Y|          2|         76|           73|\n",
            "|   N|                Y|          3|         26|           23|\n",
            "|   N|                Y|          5|         46|           44|\n",
            "|   N|                Y|          1|         46|           45|\n",
            "|   N|                Y|          5|         26|           24|\n",
            "|   N|                Y|          1|         35|           35|\n",
            "|   N|                Y|          5|         23|           22|\n",
            "|   N|                Y|          5|         20|           17|\n",
            "|   N|                Y|          5|         73|           71|\n",
            "+----+-----------------+-----------+-----------+-------------+\n",
            "only showing top 20 rows\n",
            "\n"
          ]
        }
      ]
    },
    {
      "cell_type": "markdown",
      "source": [
        "# **Determine the total number of reviews, the number of 5-star reviews, and the percentage of 5-star reviews for the two types of review (paid vs unpaid).**"
      ],
      "metadata": {
        "id": "vRFVzmqlgBty"
      }
    },
    {
      "cell_type": "code",
      "source": [
        "# Determine the percentage of 5-star reviews among (paid) Vine reviews\n",
        "total_paid_vine_reviews = paid_df.count()\n",
        "total_paid_5star_vine_reviews = paid_df[paid_df['star_rating']== 5].count()\n",
        "percentage_of_paid_5star_vine_reviews = float(total_paid_5star_vine_reviews) / float(total_paid_vine_reviews)\n",
        "print(percentage_of_paid_5star_vine_reviews)"
      ],
      "metadata": {
        "colab": {
          "base_uri": "https://localhost:8080/"
        },
        "id": "ii37U5Zhg3gV",
        "outputId": "6a364a4e-8336-487a-842a-2385026bfd54"
      },
      "execution_count": 36,
      "outputs": [
        {
          "output_type": "stream",
          "name": "stdout",
          "text": [
            "0.5909090909090909\n"
          ]
        }
      ]
    },
    {
      "cell_type": "code",
      "source": [
        "# Determine the percentage of 5-star reviews among (unpaid) non-Vine reviews\n",
        "total_unpaid_nonvine_reviews = unpaid_df.count()\n",
        "total_unpaid_5star_nonvine_reviews = unpaid_df[unpaid_df['star_rating']== 5].count()\n",
        "percentage_of_unpaid_5star_nonvine_reviews = float(total_unpaid_5star_nonvine_reviews) / float(total_unpaid_nonvine_reviews)\n",
        "print(percentage_of_unpaid_5star_nonvine_reviews)"
      ],
      "metadata": {
        "colab": {
          "base_uri": "https://localhost:8080/"
        },
        "id": "hOo_2BHVhQ5-",
        "outputId": "936115f8-e7b1-4b1c-c132-7b772c4ee779"
      },
      "execution_count": 37,
      "outputs": [
        {
          "output_type": "stream",
          "name": "stdout",
          "text": [
            "0.5363693630266425\n"
          ]
        }
      ]
    },
    {
      "cell_type": "markdown",
      "source": [
        "## **Summary for (paid) vine reviews:**"
      ],
      "metadata": {
        "id": "5K-gKYMkksp1"
      }
    },
    {
      "cell_type": "code",
      "source": [
        "print(\"Total number of reviews for paid/Vine members:\") \n",
        "print(total_paid_vine_reviews)\n",
        "print(\"\")\n",
        "print(\"Total number of 5-star reviwes for paid/Vine members:\")\n",
        "print(total_paid_5star_vine_reviews)\n",
        "print(\"\")\n",
        "print(\"Percentage of 5-star reviews for paid/Vine members:\")\n",
        "print(percentage_of_paid_5star_vine_reviews)"
      ],
      "metadata": {
        "colab": {
          "base_uri": "https://localhost:8080/"
        },
        "id": "kpSijZ6FlFaY",
        "outputId": "f4173ec4-72b2-4102-b9f2-25a3b56bd42e"
      },
      "execution_count": 43,
      "outputs": [
        {
          "output_type": "stream",
          "name": "stdout",
          "text": [
            "Total number of reviews for paid/Vine members:\n",
            "22\n",
            "\n",
            "Total number of 5-star reviwes for paid/Vine members:\n",
            "13\n",
            "\n",
            "Percentage of 5-star reviews for paid/Vine members:\n",
            "0.5909090909090909\n"
          ]
        }
      ]
    },
    {
      "cell_type": "markdown",
      "source": [
        "## **Summary for (unpaid) non-vine reviews:**"
      ],
      "metadata": {
        "id": "oZOLaFgGkusn"
      }
    },
    {
      "cell_type": "code",
      "source": [
        "print(\"Total number of reviews for unpaid/non-Vine members:\") \n",
        "print(total_unpaid_nonvine_reviews)\n",
        "print(\"\")\n",
        "print(\"Total number of 5-star reviwes for unpaid/non-Vine members:\")\n",
        "print(total_unpaid_5star_nonvine_reviews)\n",
        "print(\"\")\n",
        "print(\"Percentage of 5-star reviews for unpaid/non-Vine members:\")\n",
        "print(percentage_of_unpaid_5star_nonvine_reviews)"
      ],
      "metadata": {
        "colab": {
          "base_uri": "https://localhost:8080/"
        },
        "id": "_6JZ4mOboykX",
        "outputId": "714e4ec0-75eb-42ab-b8ba-386c942b8e65"
      },
      "execution_count": 46,
      "outputs": [
        {
          "output_type": "stream",
          "name": "stdout",
          "text": [
            "Total number of reviews for unpaid/non-Vine members:\n",
            "26987\n",
            "\n",
            "Total number of 5-star reviwes for unpaid/non-Vine members:\n",
            "14475\n",
            "\n",
            "Percentage of 5-star reviews for unpaid/non-Vine members:\n",
            "0.5363693630266425\n"
          ]
        }
      ]
    }
  ]
}